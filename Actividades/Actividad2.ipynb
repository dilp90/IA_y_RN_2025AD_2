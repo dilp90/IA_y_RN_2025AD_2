{
  "nbformat": 4,
  "nbformat_minor": 0,
  "metadata": {
    "colab": {
      "provenance": [],
      "authorship_tag": "ABX9TyPWRl7pB+PGPr4zLKhN5O3h",
      "include_colab_link": true
    },
    "kernelspec": {
      "name": "python3",
      "display_name": "Python 3"
    },
    "language_info": {
      "name": "python"
    }
  },
  "cells": [
    {
      "cell_type": "markdown",
      "metadata": {
        "id": "view-in-github",
        "colab_type": "text"
      },
      "source": [
        "<a href=\"https://colab.research.google.com/github/dilp90/IA_y_RN_2025AD_2/blob/main/Actividades/Actividad2.ipynb\" target=\"_parent\"><img src=\"https://colab.research.google.com/assets/colab-badge.svg\" alt=\"Open In Colab\"/></a>"
      ]
    },
    {
      "cell_type": "markdown",
      "source": [
        "# **Esta es mi primer notebook**\n",
        "Aquí voy a empezar a usar Python"
      ],
      "metadata": {
        "id": "ECRiOEaUFwV7"
      }
    },
    {
      "cell_type": "code",
      "execution_count": 1,
      "metadata": {
        "colab": {
          "base_uri": "https://localhost:8080/"
        },
        "id": "_Oq0eWnCFaww",
        "outputId": "fa021c8d-7f1e-462e-ac39-d2a0ba8303b5"
      },
      "outputs": [
        {
          "output_type": "stream",
          "name": "stdout",
          "text": [
            "¡Hola mundo!\n"
          ]
        }
      ],
      "source": [
        "print(\"¡Hola mundo!\")"
      ]
    }
  ]
}